{
 "cells": [
  {
   "cell_type": "code",
   "execution_count": 64,
   "id": "01c518a1",
   "metadata": {},
   "outputs": [],
   "source": [
    "from __future__ import print_function, division\n",
    "\n",
    "import torch\n",
    "import torch.nn as nn\n",
    "import torch.optim as optim\n",
    "from torch.optim import lr_scheduler\n",
    "import torch.backends.cudnn as cudnn\n",
    "import numpy as np\n",
    "import torchvision\n",
    "from torchvision import datasets, models, transforms\n",
    "import matplotlib.pyplot as plt\n",
    "import time\n",
    "import os\n",
    "import copy\n",
    "from torch.utils.data import DataLoader, TensorDataset, Subset\n",
    "from sklearn.model_selection import train_test_split, KFold\n",
    "from PIL import Image\n",
    "import shutil\n",
    "\n",
    "cudnn.benchmark = True\n",
    "plt.ion()   # interactive mode\n",
    "#https://pytorch.org/tutorials/beginner/transfer_learning_tutorial.html"
   ]
  },
  {
   "cell_type": "code",
   "execution_count": 65,
   "id": "dc7e294c",
   "metadata": {},
   "outputs": [],
   "source": [
    "test_size = 0.25\n",
    "\n",
    "dataset = np.load('data_train.npy').reshape((300, 300, 9032))\n",
    "labels = np.load('t_train.npy')\n",
    "shutil.rmtree(\"images\")\n",
    "shutil.rmtree(\"labels\")\n",
    "os.mkdir(\"images\")\n",
    "os.mkdir(\"labels\")\n",
    "\n",
    "train_indices, test_indices = train_test_split(range(9032), test_size=test_size, shuffle=False)\n",
    "\n",
    "for i in range(10):\n",
    "    for idx in np.where(labels[train_indices] == i)[0]:\n",
    "        image = Image.fromarray(dataset[:, :, idx], mode = 'L').convert(\"RGB\")\n",
    "        image.save(\"images/\" + str(i) + \"_\" + str(idx) + \"_train\" + \".jpg\")\n",
    "        with open(\"labels/\" + str(i) + \"_\" + str(idx) + \"_train\" + \".txt\", \"w\") as f:\n",
    "            f.write(str(i) + \" 0.5 0.5 1 1\")\n",
    "    for idx in np.where(labels[test_indices] == i)[0]:\n",
    "        image = Image.fromarray(dataset[:, :, idx], mode = 'L').convert(\"RGB\")\n",
    "        image.save(\"images/\" + str(i) + \"_\" + str(idx) + \"_test\" + \".jpg\")\n",
    "        with open(\"labels/\" + str(i) + \"_\" + str(idx) + \"_test\" + \".txt\", \"w\") as f:\n",
    "            f.write(str(i) + \" 0.5 0.5 1 1\")"
   ]
  },
  {
   "cell_type": "code",
   "execution_count": null,
   "id": "5e77b216",
   "metadata": {},
   "outputs": [],
   "source": []
  }
 ],
 "metadata": {
  "kernelspec": {
   "display_name": "Python 3",
   "language": "python",
   "name": "python3"
  },
  "language_info": {
   "codemirror_mode": {
    "name": "ipython",
    "version": 3
   },
   "file_extension": ".py",
   "mimetype": "text/x-python",
   "name": "python",
   "nbconvert_exporter": "python",
   "pygments_lexer": "ipython3",
   "version": "3.8.8"
  }
 },
 "nbformat": 4,
 "nbformat_minor": 5
}
