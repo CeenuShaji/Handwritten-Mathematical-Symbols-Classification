{
 "cells": [
  {
   "cell_type": "code",
   "execution_count": 1,
   "id": "01c518a1",
   "metadata": {},
   "outputs": [
    {
     "name": "stderr",
     "output_type": "stream",
     "text": [
      "/home/justin.rossiter/.conda/envs/hfrl/lib/python3.9/site-packages/tqdm/auto.py:22: TqdmWarning: IProgress not found. Please update jupyter and ipywidgets. See https://ipywidgets.readthedocs.io/en/stable/user_install.html\n",
      "  from .autonotebook import tqdm as notebook_tqdm\n"
     ]
    },
    {
     "data": {
      "text/plain": [
       "<matplotlib.pyplot._IonContext at 0x2b1dd73b76a0>"
      ]
     },
     "execution_count": 1,
     "metadata": {},
     "output_type": "execute_result"
    }
   ],
   "source": [
    "%matplotlib inline\n",
    "from __future__ import print_function, division\n",
    "\n",
    "import torch\n",
    "import torch.nn as nn\n",
    "import torch.optim as optim\n",
    "from torch.optim import lr_scheduler\n",
    "import torch.backends.cudnn as cudnn\n",
    "import numpy as np\n",
    "import torchvision\n",
    "from torchvision import datasets, models, transforms\n",
    "import matplotlib.pyplot as plt\n",
    "import time\n",
    "import os\n",
    "import copy\n",
    "from torch.utils.data import DataLoader, TensorDataset, Subset, Dataset\n",
    "from sklearn.model_selection import train_test_split, KFold\n",
    "from PIL import Image\n",
    "import shutil\n",
    "import pandas\n",
    "from torchvision.io import read_image\n",
    "\n",
    "cudnn.benchmark = True\n",
    "plt.ion()   # interactive mode\n",
    "#https://pytorch.org/tutorials/beginner/transfer_learning_tutorial.html"
   ]
  },
  {
   "cell_type": "code",
   "execution_count": 20,
   "id": "a38cac77",
   "metadata": {},
   "outputs": [],
   "source": [
    "def test_model(model, dataset, labels):\n",
    "    since = time.time()\n",
    "\n",
    "    # Each epoch has a training and validation phase\n",
    "    #model.eval()\n",
    "\n",
    "    running_corrects = 0\n",
    "\n",
    "    # Iterate over data.\n",
    "    for idx in range(len(labels)):\n",
    "        \n",
    "        image = Image.fromarray(dataset[:, :, idx], mode = 'L').resize((320, 320))\n",
    "        label = labels[idx]\n",
    "        if not isinstance(label, list):\n",
    "            label = [label]\n",
    "        # zero the parameter gradients\n",
    "        #optimizer.zero_grad()\n",
    "\n",
    "        # forward\n",
    "        output = model(image, size=320)\n",
    "        predictions = output.pandas().xyxy[0].sort_values('xmin').loc[:, \"class\"]\n",
    "        predictions_char_arr = [str(prediction) if prediction != 10 else 'u' for prediction in predictions]\n",
    "        predictions_str = \"\".join(predictions_char_arr)\n",
    "        print(\"Number of predictions: \", len(predictions_str), \"Prediction: \", predictions_str)\n",
    "        running_corrects += (predictions == label)  \n",
    "        #Calculate accuracy for each label; do average (varies by size of label): microaverage (use if imbalance)\n",
    "        #Calculate accuracy for each specific prediction: macroaverage (try this)\n",
    "        #output.print()\n",
    "        #_, preds = torch.max(outputs, 1)\n",
    "        #print(preds)\n",
    "        #loss = criterion(output, label)\n",
    "\n",
    "        # statistics\n",
    "        #running_loss += loss.item() * inputs.size(0)\n",
    "        #running_corrects += torch.sum(preds == labels.data)\n",
    "\n",
    "    #loss = running_loss / dataset_test_size\n",
    "    acc = running_corrects / len(labels)\n",
    "\n",
    "    print(f'Acc: {acc:.4f}')\n",
    "\n",
    "    time_elapsed = time.time() - since\n",
    "    print(f'Testing complete in {time_elapsed // 60:.0f}m {time_elapsed % 60:.0f}s')\n",
    "\n",
    "    return model"
   ]
  },
  {
   "cell_type": "code",
   "execution_count": 21,
   "id": "15d11223",
   "metadata": {},
   "outputs": [
    {
     "name": "stdout",
     "output_type": "stream",
     "text": [
      "1807\n"
     ]
    },
    {
     "name": "stderr",
     "output_type": "stream",
     "text": [
      "Downloading: \"https://github.com/ultralytics/yolov5/zipball/master\" to /home/justin.rossiter/.cache/torch/hub/master.zip\n",
      "YOLOv5 🚀 2022-12-2 Python-3.9.13 torch-1.12.0 CPU\n",
      "\n",
      "Fusing layers... \n",
      "Model summary: 157 layers, 7039792 parameters, 0 gradients, 15.8 GFLOPs\n",
      "Adding AutoShape... \n"
     ]
    }
   ],
   "source": [
    "preceding_path = \"\"\n",
    "dataset = np.load(os.path.join(preceding_path, 'data_test.npy'))\n",
    "print(len(dataset))\n",
    "dataset = dataset.reshape((300, 300, len(dataset)))\n",
    "labels = np.load(os.path.join(preceding_path, 't_test.npy'))\n",
    "model_ft = torch.hub.load('ultralytics/yolov5', 'custom', path='best.pt', force_reload=True)"
   ]
  },
  {
   "cell_type": "code",
   "execution_count": 22,
   "id": "ea2adc14",
   "metadata": {},
   "outputs": [
    {
     "name": "stdout",
     "output_type": "stream",
     "text": [
      "        xmin        ymin        xmax        ymax  confidence  class  \\\n",
      "0  78.154945  129.712082  257.281647  176.149765    0.904738      3   \n",
      "\n",
      "            name  \n",
      "0  negative sign  \n",
      "Number of predictions:  1 Prediction:  3\n",
      "        xmin      ymin        xmax        ymax  confidence  class         name\n",
      "0  10.074173  7.611801  316.180176  292.989807    0.934571      1  square root\n",
      "Number of predictions:  1 Prediction:  1\n",
      "        xmin       ymin        xmax        ymax  confidence  class name\n",
      "0  78.764641  77.663513  165.311371  204.019348    0.943059      8   pi\n",
      "Number of predictions:  1 Prediction:  8\n",
      "        xmin       ymin        xmax        ymax  confidence  class     name\n",
      "0  51.555077  86.341354  243.474976  283.427917    0.622288      7  product\n",
      "Number of predictions:  1 Prediction:  7\n",
      "        xmin       ymin        xmax        ymax  confidence  class  \\\n",
      "0  63.121529  35.531586  212.905426  236.104126    0.939163      1   \n",
      "\n",
      "          name  \n",
      "0  square root  \n",
      "Number of predictions:  1 Prediction:  1\n",
      "        xmin       ymin        xmax        ymax  confidence  class     name\n",
      "0  155.89003  85.538971  197.768967  199.953644    0.911479      6  partial\n",
      "Number of predictions:  1 Prediction:  6\n",
      "        xmin       ymin        xmax        ymax  confidence  class       name\n",
      "0  13.957642  20.613571  288.606201  300.163513    0.884077      9  summation\n",
      "Number of predictions:  1 Prediction:  9\n",
      "        xmin       ymin        xmax        ymax  confidence  class       name\n",
      "0  57.623993  78.035995  260.175751  232.146957    0.949672      2  plus sign\n",
      "Number of predictions:  1 Prediction:  2\n",
      "        xmin     ymin        xmax        ymax  confidence  class name\n",
      "0  45.485138  20.4422  273.073395  305.149963    0.824365      0    x\n",
      "Number of predictions:  1 Prediction:  0\n",
      "        xmin        ymin        xmax        ymax  confidence  class  \\\n",
      "0  22.047073  122.635452  296.669312  208.849258    0.861463      3   \n",
      "\n",
      "            name  \n",
      "0  negative sign  \n",
      "Number of predictions:  1 Prediction:  3\n",
      "        xmin      ymin        xmax        ymax  confidence  class name\n",
      "0  28.130447  1.309525  301.897339  311.199097    0.930406      0    x\n",
      "Number of predictions:  1 Prediction:  0\n",
      "         xmin       ymin        xmax        ymax  confidence  class     name\n",
      "0  102.909882  80.601212  189.552002  178.540451    0.920878      5  percent\n",
      "Number of predictions:  1 Prediction:  5\n",
      "         xmin       ymin        xmax        ymax  confidence  class       name\n",
      "0  114.155701  92.425812  197.347595  226.054230    0.469162      9  summation\n",
      "1   68.629257  91.111130  242.730392  241.723953    0.298521      9  summation\n",
      "Number of predictions:  2 Prediction:  99\n"
     ]
    },
    {
     "ename": "ValueError",
     "evalue": "('Lengths must match to compare', (2,), (1,))",
     "output_type": "error",
     "traceback": [
      "\u001b[0;31m---------------------------------------------------------------------------\u001b[0m",
      "\u001b[0;31mValueError\u001b[0m                                Traceback (most recent call last)",
      "Input \u001b[0;32mIn [22]\u001b[0m, in \u001b[0;36m<cell line: 1>\u001b[0;34m()\u001b[0m\n\u001b[0;32m----> 1\u001b[0m \u001b[43mtest_model\u001b[49m\u001b[43m(\u001b[49m\u001b[43mmodel_ft\u001b[49m\u001b[43m,\u001b[49m\u001b[43m \u001b[49m\u001b[43mdataset\u001b[49m\u001b[43m,\u001b[49m\u001b[43m \u001b[49m\u001b[43mlabels\u001b[49m\u001b[43m)\u001b[49m\n",
      "Input \u001b[0;32mIn [20]\u001b[0m, in \u001b[0;36mtest_model\u001b[0;34m(model, dataset, labels)\u001b[0m\n\u001b[1;32m     24\u001b[0m     predictions_str \u001b[38;5;241m=\u001b[39m \u001b[38;5;124m\"\u001b[39m\u001b[38;5;124m\"\u001b[39m\u001b[38;5;241m.\u001b[39mjoin(predictions_char_arr)\n\u001b[1;32m     25\u001b[0m     \u001b[38;5;28mprint\u001b[39m(\u001b[38;5;124m\"\u001b[39m\u001b[38;5;124mNumber of predictions: \u001b[39m\u001b[38;5;124m\"\u001b[39m, \u001b[38;5;28mlen\u001b[39m(predictions_str), \u001b[38;5;124m\"\u001b[39m\u001b[38;5;124mPrediction: \u001b[39m\u001b[38;5;124m\"\u001b[39m, predictions_str)\n\u001b[0;32m---> 26\u001b[0m     running_corrects \u001b[38;5;241m+\u001b[39m\u001b[38;5;241m=\u001b[39m (\u001b[43mpredictions\u001b[49m\u001b[43m \u001b[49m\u001b[38;5;241;43m==\u001b[39;49m\u001b[43m \u001b[49m\u001b[43mlabel\u001b[49m)  \n\u001b[1;32m     27\u001b[0m     \u001b[38;5;66;03m#Calculate accuracy for each label; do average (varies by size of label): microaverage (use if imbalance)\u001b[39;00m\n\u001b[1;32m     28\u001b[0m     \u001b[38;5;66;03m#Calculate accuracy for each specific prediction: macroaverage (try this)\u001b[39;00m\n\u001b[1;32m     29\u001b[0m     \u001b[38;5;66;03m#output.print()\u001b[39;00m\n\u001b[0;32m   (...)\u001b[0m\n\u001b[1;32m     37\u001b[0m \n\u001b[1;32m     38\u001b[0m \u001b[38;5;66;03m#loss = running_loss / dataset_test_size\u001b[39;00m\n\u001b[1;32m     39\u001b[0m acc \u001b[38;5;241m=\u001b[39m running_corrects \u001b[38;5;241m/\u001b[39m \u001b[38;5;28mlen\u001b[39m(labels)\n",
      "File \u001b[0;32m~/.conda/envs/hfrl/lib/python3.9/site-packages/pandas/core/ops/common.py:72\u001b[0m, in \u001b[0;36m_unpack_zerodim_and_defer.<locals>.new_method\u001b[0;34m(self, other)\u001b[0m\n\u001b[1;32m     68\u001b[0m             \u001b[38;5;28;01mreturn\u001b[39;00m \u001b[38;5;28mNotImplemented\u001b[39m\n\u001b[1;32m     70\u001b[0m other \u001b[38;5;241m=\u001b[39m item_from_zerodim(other)\n\u001b[0;32m---> 72\u001b[0m \u001b[38;5;28;01mreturn\u001b[39;00m \u001b[43mmethod\u001b[49m\u001b[43m(\u001b[49m\u001b[38;5;28;43mself\u001b[39;49m\u001b[43m,\u001b[49m\u001b[43m \u001b[49m\u001b[43mother\u001b[49m\u001b[43m)\u001b[49m\n",
      "File \u001b[0;32m~/.conda/envs/hfrl/lib/python3.9/site-packages/pandas/core/arraylike.py:42\u001b[0m, in \u001b[0;36mOpsMixin.__eq__\u001b[0;34m(self, other)\u001b[0m\n\u001b[1;32m     40\u001b[0m \u001b[38;5;129m@unpack_zerodim_and_defer\u001b[39m(\u001b[38;5;124m\"\u001b[39m\u001b[38;5;124m__eq__\u001b[39m\u001b[38;5;124m\"\u001b[39m)\n\u001b[1;32m     41\u001b[0m \u001b[38;5;28;01mdef\u001b[39;00m \u001b[38;5;21m__eq__\u001b[39m(\u001b[38;5;28mself\u001b[39m, other):\n\u001b[0;32m---> 42\u001b[0m     \u001b[38;5;28;01mreturn\u001b[39;00m \u001b[38;5;28;43mself\u001b[39;49m\u001b[38;5;241;43m.\u001b[39;49m\u001b[43m_cmp_method\u001b[49m\u001b[43m(\u001b[49m\u001b[43mother\u001b[49m\u001b[43m,\u001b[49m\u001b[43m \u001b[49m\u001b[43moperator\u001b[49m\u001b[38;5;241;43m.\u001b[39;49m\u001b[43meq\u001b[49m\u001b[43m)\u001b[49m\n",
      "File \u001b[0;32m~/.conda/envs/hfrl/lib/python3.9/site-packages/pandas/core/series.py:6243\u001b[0m, in \u001b[0;36mSeries._cmp_method\u001b[0;34m(self, other, op)\u001b[0m\n\u001b[1;32m   6240\u001b[0m rvalues \u001b[38;5;241m=\u001b[39m extract_array(other, extract_numpy\u001b[38;5;241m=\u001b[39m\u001b[38;5;28;01mTrue\u001b[39;00m, extract_range\u001b[38;5;241m=\u001b[39m\u001b[38;5;28;01mTrue\u001b[39;00m)\n\u001b[1;32m   6242\u001b[0m \u001b[38;5;28;01mwith\u001b[39;00m np\u001b[38;5;241m.\u001b[39merrstate(\u001b[38;5;28mall\u001b[39m\u001b[38;5;241m=\u001b[39m\u001b[38;5;124m\"\u001b[39m\u001b[38;5;124mignore\u001b[39m\u001b[38;5;124m\"\u001b[39m):\n\u001b[0;32m-> 6243\u001b[0m     res_values \u001b[38;5;241m=\u001b[39m \u001b[43mops\u001b[49m\u001b[38;5;241;43m.\u001b[39;49m\u001b[43mcomparison_op\u001b[49m\u001b[43m(\u001b[49m\u001b[43mlvalues\u001b[49m\u001b[43m,\u001b[49m\u001b[43m \u001b[49m\u001b[43mrvalues\u001b[49m\u001b[43m,\u001b[49m\u001b[43m \u001b[49m\u001b[43mop\u001b[49m\u001b[43m)\u001b[49m\n\u001b[1;32m   6245\u001b[0m \u001b[38;5;28;01mreturn\u001b[39;00m \u001b[38;5;28mself\u001b[39m\u001b[38;5;241m.\u001b[39m_construct_result(res_values, name\u001b[38;5;241m=\u001b[39mres_name)\n",
      "File \u001b[0;32m~/.conda/envs/hfrl/lib/python3.9/site-packages/pandas/core/ops/array_ops.py:264\u001b[0m, in \u001b[0;36mcomparison_op\u001b[0;34m(left, right, op)\u001b[0m\n\u001b[1;32m    259\u001b[0m \u001b[38;5;28;01mif\u001b[39;00m \u001b[38;5;28misinstance\u001b[39m(rvalues, (np\u001b[38;5;241m.\u001b[39mndarray, ABCExtensionArray)):\n\u001b[1;32m    260\u001b[0m     \u001b[38;5;66;03m# TODO: make this treatment consistent across ops and classes.\u001b[39;00m\n\u001b[1;32m    261\u001b[0m     \u001b[38;5;66;03m#  We are not catching all listlikes here (e.g. frozenset, tuple)\u001b[39;00m\n\u001b[1;32m    262\u001b[0m     \u001b[38;5;66;03m#  The ambiguous case is object-dtype.  See GH#27803\u001b[39;00m\n\u001b[1;32m    263\u001b[0m     \u001b[38;5;28;01mif\u001b[39;00m \u001b[38;5;28mlen\u001b[39m(lvalues) \u001b[38;5;241m!=\u001b[39m \u001b[38;5;28mlen\u001b[39m(rvalues):\n\u001b[0;32m--> 264\u001b[0m         \u001b[38;5;28;01mraise\u001b[39;00m \u001b[38;5;167;01mValueError\u001b[39;00m(\n\u001b[1;32m    265\u001b[0m             \u001b[38;5;124m\"\u001b[39m\u001b[38;5;124mLengths must match to compare\u001b[39m\u001b[38;5;124m\"\u001b[39m, lvalues\u001b[38;5;241m.\u001b[39mshape, rvalues\u001b[38;5;241m.\u001b[39mshape\n\u001b[1;32m    266\u001b[0m         )\n\u001b[1;32m    268\u001b[0m \u001b[38;5;28;01mif\u001b[39;00m should_extension_dispatch(lvalues, rvalues) \u001b[38;5;129;01mor\u001b[39;00m (\n\u001b[1;32m    269\u001b[0m     (\u001b[38;5;28misinstance\u001b[39m(rvalues, (Timedelta, BaseOffset, Timestamp)) \u001b[38;5;129;01mor\u001b[39;00m right \u001b[38;5;129;01mis\u001b[39;00m NaT)\n\u001b[1;32m    270\u001b[0m     \u001b[38;5;129;01mand\u001b[39;00m \u001b[38;5;129;01mnot\u001b[39;00m is_object_dtype(lvalues\u001b[38;5;241m.\u001b[39mdtype)\n\u001b[1;32m    271\u001b[0m ):\n\u001b[1;32m    272\u001b[0m     \u001b[38;5;66;03m# Call the method on lvalues\u001b[39;00m\n\u001b[1;32m    273\u001b[0m     res_values \u001b[38;5;241m=\u001b[39m op(lvalues, rvalues)\n",
      "\u001b[0;31mValueError\u001b[0m: ('Lengths must match to compare', (2,), (1,))"
     ]
    }
   ],
   "source": [
    "test_model(model_ft, dataset, labels)"
   ]
  },
  {
   "cell_type": "code",
   "execution_count": null,
   "id": "15a0c27d",
   "metadata": {},
   "outputs": [],
   "source": []
  }
 ],
 "metadata": {
  "kernelspec": {
   "display_name": "hfrl",
   "language": "python",
   "name": "hfrl"
  },
  "language_info": {
   "codemirror_mode": {
    "name": "ipython",
    "version": 3
   },
   "file_extension": ".py",
   "mimetype": "text/x-python",
   "name": "python",
   "nbconvert_exporter": "python",
   "pygments_lexer": "ipython3",
   "version": "3.9.13"
  }
 },
 "nbformat": 4,
 "nbformat_minor": 5
}
