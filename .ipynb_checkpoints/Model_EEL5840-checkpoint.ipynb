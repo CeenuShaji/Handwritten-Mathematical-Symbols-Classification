{
 "cells": [
  {
   "cell_type": "code",
   "execution_count": 1,
   "id": "01c518a1",
   "metadata": {},
   "outputs": [],
   "source": [
    "import numpy as np\n",
    "import tensorflow as tf\n",
    "import keras"
   ]
  },
  {
   "cell_type": "code",
   "execution_count": 4,
   "id": "dc7e294c",
   "metadata": {},
   "outputs": [
    {
     "name": "stdout",
     "output_type": "stream",
     "text": [
      "Downloading data from https://storage.googleapis.com/tensorflow/keras-applications/resnet/resnet50_weights_tf_dim_ordering_tf_kernels_notop.h5\n",
      "94765736/94765736 [==============================] - 3s 0us/step\n"
     ]
    }
   ],
   "source": [
    "model = tf.keras.applications.resnet50.ResNet50(weights=\"imagenet\", include_top=False)"
   ]
  },
  {
   "cell_type": "code",
   "execution_count": null,
   "id": "0e2a64b0",
   "metadata": {},
   "outputs": [],
   "source": [
    "import tensorflow_datasets as tfds dataset\n",
    "info = tfds.load(\"tf_flowers\", as_supervised=True, with_info=True) \n",
    "dataset_size = info.splits[\"train\"].num_examples # 3670 \n",
    "class_names = info.features[\"label\"].names # [\"dandelion\", \"daisy\", ...] \n",
    "n_classes = info.features[\"label\"].num_classes # 5\n",
    "\n",
    "test_set_raw, valid_set_raw, train_set_raw = tfds.load( \"tf_flowers\", split=[\"train[:10%]\", \"train[10%:25%]\", \"train[25%:]\"], as_supervised=True)\n",
    " \n",
    "avg = keras.layers.GlobalAveragePooling2D()(model.output) \n",
    "output = keras.layers.Dense(n_classes, activation=\"softmax\")(avg) \n",
    "model = keras.Model(inputs=model.input, outputs=output)\n",
    "\n",
    "optimizer = keras.optimizers.SGD(lr=0.2, momentum=0.9, decay=0.01) \n",
    "model.compile(loss=\"sparse_categorical_crossentropy\", optimizer=optimizer, metrics=[\"accuracy\"]) \n",
    "history = model.fit(train_set, epochs=5, validation_data=valid_set)"
   ]
  }
 ],
 "metadata": {
  "kernelspec": {
   "display_name": "Python 3 (ipykernel)",
   "language": "python",
   "name": "python3"
  },
  "language_info": {
   "codemirror_mode": {
    "name": "ipython",
    "version": 3
   },
   "file_extension": ".py",
   "mimetype": "text/x-python",
   "name": "python",
   "nbconvert_exporter": "python",
   "pygments_lexer": "ipython3",
   "version": "3.7.13"
  }
 },
 "nbformat": 4,
 "nbformat_minor": 5
}
