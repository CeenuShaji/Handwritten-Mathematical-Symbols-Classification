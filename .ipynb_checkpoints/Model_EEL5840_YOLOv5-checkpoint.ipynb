{
 "cells": [
  {
   "cell_type": "code",
   "execution_count": 25,
   "id": "01c518a1",
   "metadata": {},
   "outputs": [],
   "source": [
    "from __future__ import print_function, division\n",
    "\n",
    "import torch\n",
    "import torch.nn as nn\n",
    "import torch.optim as optim\n",
    "from torch.optim import lr_scheduler\n",
    "import torch.backends.cudnn as cudnn\n",
    "import numpy as np\n",
    "import torchvision\n",
    "from torchvision import datasets, models, transforms\n",
    "import matplotlib.pyplot as plt\n",
    "import time\n",
    "import os\n",
    "import copy\n",
    "from torch.utils.data import DataLoader, TensorDataset, Subset\n",
    "from sklearn.model_selection import train_test_split, KFold\n",
    "from PIL import Image\n",
    "import shutil\n",
    "\n",
    "cudnn.benchmark = True\n",
    "plt.ion()   # interactive mode\n",
    "#https://pytorch.org/tutorials/beginner/transfer_learning_tutorial.html"
   ]
  },
  {
   "cell_type": "code",
   "execution_count": 35,
   "id": "dc7e294c",
   "metadata": {},
   "outputs": [],
   "source": [
    "test_size = 0.25\n",
    "\n",
    "dataset = np.load('data_train.npy').reshape((300, 300, 9032))\n",
    "labels = np.load('t_train.npy')\n",
    "shutil.rmtree(\"images\")\n",
    "shutil.rmtree(\"labels\")\n",
    "os.mkdir(\"images\")\n",
    "os.mkdir(\"labels\")\n",
    "dataset_shaped = np.zeros((9032, 300, 300))\n",
    "for i in range(9032):\n",
    "    dataset_shaped[i, :, :] = dataset[:, :, i]\n",
    "\n",
    "train_indices, test_indices = train_test_split(range(len(dataset)), test_size=test_size, shuffle=True)\n",
    "\n",
    "for i in range(11):\n",
    "    for idx in np.where(labels[train_indices] == i)[0]:\n",
    "        image = Image.fromarray(dataset_shaped[idx, :, :], mode = 'L').convert(\"RGB\")\n",
    "        image.save(\"images/\" + str(i) + \"_\" + str(idx) + \"_train\" + \".jpg\")\n",
    "        with open(\"labels/\" + str(i) + \"_\" + str(idx) + \"_train\" + \".txt\", \"w\") as f:\n",
    "            f.write(str(i) + \": 0.5 0.5 1 1\")\n",
    "    for idx in np.where(labels[test_indices] == i)[0]:\n",
    "        image = Image.fromarray(dataset_shaped[idx, :, :], mode = 'L').convert(\"RGB\")\n",
    "        image.save(\"images/\" + str(i) + \"_\" + str(idx) + \"_test\" + \".jpg\")\n",
    "        with open(\"labels/\" + str(i) + \"_\" + str(idx) + \"_test\" + \".txt\", \"w\") as f:\n",
    "            f.write(str(i) + \": 0.5 0.5 1 1\")"
   ]
  },
  {
   "cell_type": "code",
   "execution_count": 36,
   "id": "b66b775a",
   "metadata": {},
   "outputs": [
    {
     "data": {
      "text/plain": [
       "True"
      ]
     },
     "execution_count": 36,
     "metadata": {},
     "output_type": "execute_result"
    }
   ],
   "source": [
    "np.array([(dataset_shaped[i, :, :] == dataset[:, :, i]) for i in range(9032)]).all()"
   ]
  },
  {
   "cell_type": "code",
   "execution_count": 31,
   "id": "bad5dc44",
   "metadata": {},
   "outputs": [
    {
     "data": {
      "text/plain": [
       "array([[252, 253, 254, ..., 254, 254, 254],\n",
       "       [252, 253, 254, ..., 254, 254, 254],\n",
       "       [252, 253, 254, ..., 254, 254, 254],\n",
       "       ...,\n",
       "       [253, 254, 255, ..., 254, 254, 254],\n",
       "       [253, 255, 255, ..., 255, 255, 255],\n",
       "       [254, 255, 255, ..., 255, 255, 255]], dtype=uint8)"
      ]
     },
     "execution_count": 31,
     "metadata": {},
     "output_type": "execute_result"
    }
   ],
   "source": [
    "dataset[:, :, 0]"
   ]
  },
  {
   "cell_type": "code",
   "execution_count": null,
   "id": "430bcca2",
   "metadata": {},
   "outputs": [],
   "source": []
  }
 ],
 "metadata": {
  "kernelspec": {
   "display_name": "Python 3",
   "language": "python",
   "name": "python3"
  },
  "language_info": {
   "codemirror_mode": {
    "name": "ipython",
    "version": 3
   },
   "file_extension": ".py",
   "mimetype": "text/x-python",
   "name": "python",
   "nbconvert_exporter": "python",
   "pygments_lexer": "ipython3",
   "version": "3.8.8"
  }
 },
 "nbformat": 4,
 "nbformat_minor": 5
}
