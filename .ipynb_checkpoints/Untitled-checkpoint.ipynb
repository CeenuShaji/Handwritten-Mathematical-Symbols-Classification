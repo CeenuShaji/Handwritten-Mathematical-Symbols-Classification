{
 "cells": [
  {
   "cell_type": "code",
   "execution_count": null,
   "id": "93cfb339",
   "metadata": {},
   "outputs": [],
   "source": [
    "from __future__ import print_function, division\n",
    "\n",
    "import numpy as np\n",
    "import matplotlib.pyplot as plt\n",
    "import os\n",
    "from sklearn.model_selection import train_test_split\n",
    "from PIL import Image\n",
    "import shutil\n",
    "\n",
    "preceding_path = \"\"\n",
    "\n",
    "plt.ion()   # interactive mode\n",
    "#https://pytorch.org/tutorials/beginner/transfer_learning_tutorial.html\n",
    "\n",
    "def generateImageAndLabel(split, i, idx):\n",
    "    image = Image.fromarray(dataset[:, :, idx], mode = 'L').resize((320, 320))\n",
    "    image.save(os.path.join(preceding_path, split, \"images\", str(i) + \"_\" + str(idx) + \".jpg\"))\n",
    "    with open(os.path.join(preceding_path, split, \"labels\", str(i) + \"_\" + str(idx) + \".txt\"), \"w\") as f:\n",
    "        f.write(str(i) + \" 0.5 0.5 1 1\")\n",
    "\n",
    "if __name__ == \"__main__\":\n",
    "\n",
    "    test_size = 0.25\n",
    "\n",
    "    dataset = np.load(os.path.join(preceding_path, 'data_train.npy')).reshape((300, 300, 9032))\n",
    "    labels = np.load(os.path.join(preceding_path, 't_train_corrected.npy'))\n",
    "    if os.path.exists(os.path.join(preceding_path, \"train\")):\n",
    "        shutil.rmtree(os.path.join(preceding_path, \"train\"))\n",
    "    if os.path.exists(os.path.join(preceding_path, \"test\")):\n",
    "        shutil.rmtree(os.path.join(preceding_path, \"test\"))\n",
    "    os.makedirs(os.path.join(preceding_path, \"train\", \"images\"))\n",
    "    os.makedirs(os.path.join(preceding_path, \"train\", \"labels\"))\n",
    "    os.makedirs(os.path.join(preceding_path, \"test\", \"images\"))\n",
    "    os.makedirs(os.path.join(preceding_path, \"test\", \"labels\"))\n",
    "\n",
    "    train_indices, test_indices = train_test_split(range(9032), test_size=test_size, shuffle=False)\n",
    "\n",
    "    for i in range(10):\n",
    "        for idx in np.where(labels == i)[0]:\n",
    "            if idx in train_indices:\n",
    "                generateImageAndLabel(\"train\", i, idx)\n",
    "            else:\n",
    "                generateImageAndLabel(\"test\", i, idx)\n",
    "                \n",
    "    for idx in np.where(labels == -1)[0]:\n",
    "        if idx in train_indices:\n",
    "            generateImageAndLabel(\"train\", 10, idx)\n",
    "        else:\n",
    "            generateImageAndLabel(\"test\", 10, idx)\n",
    "\n"
   ]
  }
 ],
 "metadata": {
  "kernelspec": {
   "display_name": "Python 3 (ipykernel)",
   "language": "python",
   "name": "python3"
  },
  "language_info": {
   "codemirror_mode": {
    "name": "ipython",
    "version": 3
   },
   "file_extension": ".py",
   "mimetype": "text/x-python",
   "name": "python",
   "nbconvert_exporter": "python",
   "pygments_lexer": "ipython3",
   "version": "3.8.13"
  }
 },
 "nbformat": 4,
 "nbformat_minor": 5
}
